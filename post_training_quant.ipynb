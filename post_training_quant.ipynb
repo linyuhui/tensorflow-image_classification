{
 "cells": [
  {
   "cell_type": "code",
   "execution_count": 1,
   "metadata": {},
   "outputs": [],
   "source": [
    "# pip innstall -U tf-nightly\n",
    "# version: 1.14.1\n",
    "import tensorflow as tf\n",
    "tf.enable_eager_execution()"
   ]
  },
  {
   "cell_type": "code",
   "execution_count": 2,
   "metadata": {},
   "outputs": [
    {
     "data": {
      "text/plain": [
       "'1.14.1-dev20190403'"
      ]
     },
     "execution_count": 2,
     "metadata": {},
     "output_type": "execute_result"
    }
   ],
   "source": [
    "tf.__version__ "
   ]
  },
  {
   "cell_type": "code",
   "execution_count": 3,
   "metadata": {},
   "outputs": [],
   "source": [
    "import sys\n",
    "import os\n",
    "\n",
    "if sys.version_info.major >= 3:\n",
    "    import pathlib\n",
    "else:\n",
    "    import pathlib2 as pathlib\n",
    "\n",
    "# Add `models` to the python path.\n",
    "models_path = os.path.join(os.getcwd(), \"models\")\n",
    "sys.path.append(models_path)"
   ]
  },
  {
   "cell_type": "markdown",
   "metadata": {},
   "source": [
    "## Convert to tflite model"
   ]
  },
  {
   "cell_type": "code",
   "execution_count": 7,
   "metadata": {},
   "outputs": [],
   "source": [
    "graph_def_file = '...car_moblienet_v1_1.0_224.pb'\n",
    "input_nodes = ['input']\n",
    "output_nodes = ['class_id', 'prob']\n",
    "converter = tf.lite.TFLiteConverter.from_frozen_graph(\n",
    "    graph_def_file, input_nodes, output_nodes)\n",
    "tflite_model = converter.convert()"
   ]
  },
  {
   "cell_type": "code",
   "execution_count": 8,
   "metadata": {},
   "outputs": [],
   "source": [
    "tflite_models_dir = pathlib.Path(\"./tflite_models/\")\n",
    "tflite_models_dir.mkdir(exist_ok=True, parents=True)"
   ]
  },
  {
   "cell_type": "code",
   "execution_count": 9,
   "metadata": {},
   "outputs": [
    {
     "data": {
      "text/plain": [
       "17845360"
      ]
     },
     "execution_count": 9,
     "metadata": {},
     "output_type": "execute_result"
    }
   ],
   "source": [
    "tflite_model_file = tflite_models_dir/\"car_mobilenet_v1_1.0_224.tflite\"\n",
    "tflite_model_file.write_bytes(tflite_model)"
   ]
  },
  {
   "cell_type": "markdown",
   "metadata": {},
   "source": [
    "## DO quantize"
   ]
  },
  {
   "cell_type": "code",
   "execution_count": 11,
   "metadata": {},
   "outputs": [
    {
     "data": {
      "text/plain": [
       "7664328"
      ]
     },
     "execution_count": 11,
     "metadata": {},
     "output_type": "execute_result"
    }
   ],
   "source": [
    "# Quantize\n",
    "tf.logging.set_verbosity(tf.logging.INFO)\n",
    "converter.optimizations = [tf.lite.Optimize.OPTIMIZE_FOR_SIZE]\n",
    "tflite_quant_model = converter.convert()\n",
    "tflite_model_quant_file = tflite_models_dir/'car_mobilenet_v1_1.0_224_quant.tflite'\n",
    "tflite_model_quant_file.write_bytes(tflite_quant_model)"
   ]
  },
  {
   "cell_type": "code",
   "execution_count": 12,
   "metadata": {},
   "outputs": [
    {
     "name": "stdout",
     "output_type": "stream",
     "text": [
      "总用量 25M\r\n",
      "-rw-rw-r-- 1 7.4M Apr  4 17:19 car_mobilenet_v1_1.0_224_quant.tflite\r\n",
      "-rw-rw-r-- 1 18M Apr  4 17:07 car_mobilenet_v1_1.0_224.tflite\r\n"
     ]
    }
   ],
   "source": [
    "!ls -lh {tflite_models_dir}"
   ]
  },
  {
   "cell_type": "markdown",
   "metadata": {},
   "source": [
    "## Test model on data"
   ]
  },
  {
   "cell_type": "code",
   "execution_count": 15,
   "metadata": {},
   "outputs": [
    {
     "name": "stdout",
     "output_type": "stream",
     "text": [
      "Read validation data.\n"
     ]
    }
   ],
   "source": [
    "from dataset_factory import get_cars_dataset_from_record, CAR_RECORD_INFO\n",
    "val_ds = get_cars_dataset_from_record(\n",
    "    False, data_dir='...tfrecord/',\n",
    "    batch_size=1,\n",
    "    val_prefix='validation')"
   ]
  },
  {
   "cell_type": "code",
   "execution_count": 19,
   "metadata": {},
   "outputs": [],
   "source": [
    "interpreter = tf.lite.Interpreter(model_path=str(tflite_model_file))\n",
    "interpreter.allocate_tensors()\n",
    "input_index = interpreter.get_input_details()[0][\"index\"]\n",
    "class_id_index = interpreter.get_output_details()[0][\"index\"]\n",
    "prob_index = interpreter.get_output_details()[1][\"index\"]"
   ]
  },
  {
   "cell_type": "code",
   "execution_count": 18,
   "metadata": {},
   "outputs": [
    {
     "data": {
      "text/plain": [
       "[{'name': 'class_id',\n",
       "  'index': 5,\n",
       "  'shape': array([1], dtype=int32),\n",
       "  'dtype': numpy.int32,\n",
       "  'quantization': (0.0, 0)},\n",
       " {'name': 'prob',\n",
       "  'index': 15,\n",
       "  'shape': array([  1, 196], dtype=int32),\n",
       "  'dtype': numpy.float32,\n",
       "  'quantization': (0.0, 0)}]"
      ]
     },
     "execution_count": 18,
     "metadata": {},
     "output_type": "execute_result"
    }
   ],
   "source": [
    "interpreter.get_output_details()"
   ]
  },
  {
   "cell_type": "code",
   "execution_count": 20,
   "metadata": {},
   "outputs": [],
   "source": [
    "tf.logging.set_verbosity(tf.logging.DEBUG)\n",
    "interpreter_quant = tf.lite.Interpreter(model_path=str(tflite_model_quant_file))"
   ]
  },
  {
   "cell_type": "code",
   "execution_count": 21,
   "metadata": {},
   "outputs": [],
   "source": [
    "interpreter_quant.allocate_tensors()\n",
    "input_index = interpreter_quant.get_input_details()[0][\"index\"]\n",
    "class_id_index = interpreter_quant.get_output_details()[0][\"index\"]\n",
    "prob_index = interpreter_quant.get_output_details()[0][\"index\"]"
   ]
  },
  {
   "cell_type": "code",
   "execution_count": 23,
   "metadata": {},
   "outputs": [],
   "source": [
    "for img, label in val_ds.take(1):\n",
    "    break"
   ]
  },
  {
   "cell_type": "code",
   "execution_count": 31,
   "metadata": {},
   "outputs": [],
   "source": [
    "interpreter.set_tensor(input_index, img)\n",
    "interpreter.invoke()\n",
    "predictions = interpreter.get_tensor(class_id_index)"
   ]
  },
  {
   "cell_type": "code",
   "execution_count": 32,
   "metadata": {},
   "outputs": [
    {
     "name": "stderr",
     "output_type": "stream",
     "text": [
      "W0404 17:51:41.685300 139881372862208 image.py:648] Clipping input data to the valid range for imshow with RGB data ([0..1] for floats or [0..255] for integers).\n"
     ]
    },
    {
     "data": {
      "image/png": "[encoded data removed]",
      "text/plain": [
       "<Figure size 432x288 with 1 Axes>"
      ]
     },
     "metadata": {
      "needs_background": "light"
     },
     "output_type": "display_data"
    }
   ],
   "source": [
    "import matplotlib.pylab as plt\n",
    "%matplotlib inline\n",
    "plt.imshow(img[0])\n",
    "template = \"True:{true}, predicted:{predict}\"\n",
    "_ = plt.title(template.format(true= str(label[0].numpy()),\n",
    "                              predict=str(predictions[0])))\n",
    "plt.grid(False)"
   ]
  },
  {
   "cell_type": "markdown",
   "metadata": {},
   "source": [
    "## Eval"
   ]
  },
  {
   "cell_type": "code",
   "execution_count": 44,
   "metadata": {},
   "outputs": [],
   "source": [
    "import time\n",
    "def eval_model(interpreter, ds):\n",
    "    total_seen = 0\n",
    "    num_correct = 0\n",
    "    start_time = time.time()\n",
    "    for img, label in ds:\n",
    "        total_seen += 1\n",
    "        interpreter.set_tensor(input_index, img)\n",
    "        interpreter.invoke()\n",
    "        predictions = interpreter.get_tensor(class_id_index)\n",
    "        if predictions == label.numpy():\n",
    "            num_correct += 1\n",
    "\n",
    "        if total_seen % 500 == 0:\n",
    "            print(\"Accuracy after %i images: %f\" %\n",
    "              (total_seen, float(num_correct) / float(total_seen)))\n",
    "    print('Tic tok:', time.time() - start_time)\n",
    "    return float(num_correct) / float(total_seen)"
   ]
  },
  {
   "cell_type": "code",
   "execution_count": 45,
   "metadata": {},
   "outputs": [
    {
     "name": "stdout",
     "output_type": "stream",
     "text": [
      "Accuracy after 500 images: 0.776000\n",
      "Accuracy after 1000 images: 0.793000\n",
      "Accuracy after 1500 images: 0.804667\n",
      "0.8003708281829419\n"
     ]
    }
   ],
   "source": [
    "print(eval_model(interpreter, val_ds))"
   ]
  },
  {
   "cell_type": "code",
   "execution_count": 46,
   "metadata": {},
   "outputs": [
    {
     "name": "stdout",
     "output_type": "stream",
     "text": [
      "Accuracy after 500 images: 0.772000\n",
      "Accuracy after 1000 images: 0.792000\n",
      "Accuracy after 1500 images: 0.805333\n",
      "0.8022249690976514\n"
     ]
    }
   ],
   "source": [
    "print(eval_model(interpreter_quant, val_ds))"
   ]
  },
  {
   "cell_type": "markdown",
   "metadata": {},
   "source": [
    "https://github.com/tensorflow/tensorflow/blob/v2.0.0-alpha0/tensorflow/lite/tutorials/post_training_quant.ipynb"
   ]
  }
 ],
 "metadata": {
  "kernelspec": {
   "display_name": "Python 3",
   "language": "python",
   "name": "python3"
  },
  "language_info": {
   "codemirror_mode": {
    "name": "ipython",
    "version": 3
   },
   "file_extension": ".py",
   "mimetype": "text/x-python",
   "name": "python",
   "nbconvert_exporter": "python",
   "pygments_lexer": "ipython3",
   "version": "3.6.8"
  }
 },
 "nbformat": 4,
 "nbformat_minor": 2
}
